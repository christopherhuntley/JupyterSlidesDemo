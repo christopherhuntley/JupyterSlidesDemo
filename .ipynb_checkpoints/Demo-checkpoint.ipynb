{
 "cells": [
  {
   "cell_type": "markdown",
   "metadata": {
    "slideshow": {
     "slide_type": "slide"
    }
   },
   "source": [
    "![DSB Logo](img/Dolan.jpg)\n",
    "# The Python Environment\n",
    "\n",
    "## RSI Chapter 1\n",
    "### Concepts you should know before your first program"
   ]
  },
  {
   "cell_type": "markdown",
   "metadata": {
    "slideshow": {
     "slide_type": "slide"
    }
   },
   "source": [
    "# Learning Objectives\n",
    "\n",
    "## Theory / Be able to explain ...\n",
    "\n",
    "- General programming terms like source code, interpreter, compiler, object code, comment, data type, etc.\n",
    "- The different types of errors that require debugging\n",
    "\n",
    "## Skills / Know how to  ...\n",
    "\n",
    "- Run Python statements in the command line interpreter"
   ]
  },
  {
   "cell_type": "markdown",
   "metadata": {
    "slideshow": {
     "slide_type": "slide"
    }
   },
   "source": [
    "# Python Language Origins\n",
    "- Python is a high-level *scripting* language, originally intended for short programs that run from the command line.\n",
    "- Timeline:\n",
    "    - 1980’s: early development by Guido Van Rossum\n",
    "    - 1994: Python 1.0, the first complete release\n",
    "    - 2000: Python 2.0 added advanced data types and core object-orientation (‘everything is an object’)\n",
    "    - 2008: Python 3.0 broke backwards compatibility to streamline and unify language syntax and libraries\n"
   ]
  },
  {
   "cell_type": "markdown",
   "metadata": {
    "slideshow": {
     "slide_type": "slide"
    }
   },
   "source": [
    "# Python 2 vs Python 3\n",
    "\n",
    "- Plenty of Python libraries (reusable programs) in use today were originally written before 2008\n",
    "    - While most libraries have updated to Python 3, some remain stuck in Python 2\n",
    "- **We will be learning Python 3** in this class\n",
    "    - However, you may be asked to use Python 2 in some of your future analytics classes and on the job\n",
    "    - Fortunately, the switch is pretty easy once you know what you are doing\n"
   ]
  }
 ],
 "metadata": {
  "kernelspec": {
   "display_name": "Python 3",
   "language": "python",
   "name": "python3"
  },
  "language_info": {
   "codemirror_mode": {
    "name": "ipython",
    "version": 3
   },
   "file_extension": ".py",
   "mimetype": "text/x-python",
   "name": "python",
   "nbconvert_exporter": "python",
   "pygments_lexer": "ipython3",
   "version": "3.6.6"
  }
 },
 "nbformat": 4,
 "nbformat_minor": 2
}
